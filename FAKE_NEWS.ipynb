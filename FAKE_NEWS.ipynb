{
  "cells": [
    {
      "cell_type": "markdown",
      "source": [
        "FAKE NEWS DETECTION"
      ],
      "metadata": {
        "id": "suF1odTIGDBT"
      },
      "id": "suF1odTIGDBT"
    },
    {
      "cell_type": "markdown",
      "source": [
        "Installing packages\n"
      ],
      "metadata": {
        "id": "AWK1c3YXGHd1"
      },
      "id": "AWK1c3YXGHd1"
    },
    {
      "cell_type": "code",
      "execution_count": null,
      "id": "e6c12afd-560d-4041-9693-fc7f3d85bc57",
      "metadata": {
        "id": "e6c12afd-560d-4041-9693-fc7f3d85bc57",
        "outputId": "38ab6987-53e2-41c9-c251-89720d38e731"
      },
      "outputs": [
        {
          "name": "stdout",
          "output_type": "stream",
          "text": [
            "Requirement already satisfied: nltk in /opt/conda/lib/python3.10/site-packages (3.7)\n",
            "Requirement already satisfied: regex>=2021.8.3 in /opt/conda/lib/python3.10/site-packages (from nltk) (2022.10.31)\n",
            "Requirement already satisfied: tqdm in /opt/conda/lib/python3.10/site-packages (from nltk) (4.64.1)\n",
            "Requirement already satisfied: click in /opt/conda/lib/python3.10/site-packages (from nltk) (8.1.3)\n",
            "Requirement already satisfied: joblib in /opt/conda/lib/python3.10/site-packages (from nltk) (1.2.0)\n",
            "\n",
            "\u001b[1m[\u001b[0m\u001b[34;49mnotice\u001b[0m\u001b[1;39;49m]\u001b[0m\u001b[39;49m A new release of pip available: \u001b[0m\u001b[31;49m22.3\u001b[0m\u001b[39;49m -> \u001b[0m\u001b[32;49m22.3.1\u001b[0m\n",
            "\u001b[1m[\u001b[0m\u001b[34;49mnotice\u001b[0m\u001b[1;39;49m]\u001b[0m\u001b[39;49m To update, run: \u001b[0m\u001b[32;49mpip install --upgrade pip\u001b[0m\n",
            "Requirement already satisfied: sklearn in /opt/conda/lib/python3.10/site-packages (0.0.post1)\n",
            "\n",
            "\u001b[1m[\u001b[0m\u001b[34;49mnotice\u001b[0m\u001b[1;39;49m]\u001b[0m\u001b[39;49m A new release of pip available: \u001b[0m\u001b[31;49m22.3\u001b[0m\u001b[39;49m -> \u001b[0m\u001b[32;49m22.3.1\u001b[0m\n",
            "\u001b[1m[\u001b[0m\u001b[34;49mnotice\u001b[0m\u001b[1;39;49m]\u001b[0m\u001b[39;49m To update, run: \u001b[0m\u001b[32;49mpip install --upgrade pip\u001b[0m\n"
          ]
        }
      ],
      "source": [
        "!pip install nltk\n",
        "!pip install sklearn"
      ]
    },
    {
      "cell_type": "markdown",
      "source": [
        "Importing necessary libraries"
      ],
      "metadata": {
        "id": "104r-AGBGL97"
      },
      "id": "104r-AGBGL97"
    },
    {
      "cell_type": "code",
      "execution_count": null,
      "id": "e7556974-bdcc-436c-8225-0b047c42e1b2",
      "metadata": {
        "id": "e7556974-bdcc-436c-8225-0b047c42e1b2",
        "outputId": "2ec02132-fd7f-4063-a381-0c7a319a1f2a"
      },
      "outputs": [
        {
          "name": "stderr",
          "output_type": "stream",
          "text": [
            "[nltk_data] Downloading package stopwords to /home/jovyan/nltk_data...\n",
            "[nltk_data]   Package stopwords is already up-to-date!\n",
            "[nltk_data] Downloading package omw-1.4 to /home/jovyan/nltk_data...\n",
            "[nltk_data]   Package omw-1.4 is already up-to-date!\n"
          ]
        },
        {
          "data": {
            "text/plain": [
              "True"
            ]
          },
          "execution_count": 2,
          "metadata": {},
          "output_type": "execute_result"
        }
      ],
      "source": [
        "import csv \n",
        "import nltk# csv reader\n",
        "from sklearn.svm import LinearSVC\n",
        "from nltk.classify import SklearnClassifier\n",
        "from sklearn.feature_extraction.text import TfidfTransformer\n",
        "from sklearn.pipeline import Pipeline\n",
        "from sklearn.metrics import precision_recall_fscore_support # to report on precision and recall\n",
        "import numpy as np\n",
        "import re # Regular expression\n",
        "import pandas as pd\n",
        "from nltk.corpus import stopwords\n",
        "from nltk.tokenize import sent_tokenize\n",
        "from collections import Counter\n",
        "nltk.download('stopwords')\n",
        "nltk.download('omw-1.4')"
      ]
    },
    {
      "cell_type": "markdown",
      "source": [
        "Input and Basic Preprocessing"
      ],
      "metadata": {
        "id": "9WGqgbs1GX_m"
      },
      "id": "9WGqgbs1GX_m"
    },
    {
      "cell_type": "code",
      "execution_count": null,
      "id": "92d868a5-8770-41da-aba2-08372f9801b8",
      "metadata": {
        "id": "92d868a5-8770-41da-aba2-08372f9801b8"
      },
      "outputs": [],
      "source": [
        "def load_data(path):\n",
        "    \"\"\"Load data from a tab-separated file and append it to raw_data.\"\"\"\n",
        "    with open(path) as f:\n",
        "        reader = csv.reader(f, delimiter='\\t')\n",
        "        for line in reader:\n",
        "            if line[0] == \"Id\":  # skip header\n",
        "                continue\n",
        "            (label,text,subject, speaker, speaker_job, state_info, party_affiliation) = parse_data_line(line)\n",
        "            raw_data.append((text,subject, speaker, speaker_job, state_info, party_affiliation,label))\n",
        "\n",
        "def split_and_preprocess_data(percentage):\n",
        "    \"\"\"Split the data between train_data and test_data according to the percentage\n",
        "    and performs the preprocessing.\"\"\"\n",
        "    num_samples = len(raw_data)\n",
        "    num_training_samples = int((percentage * num_samples))\n",
        "    for (text,subject,speaker,speaker_job,state_info,party_affiliation,label) in raw_data[:num_training_samples]:\n",
        "        train_data.append((toFeatureVector(pre_process(text,subject,speaker,speaker_job,state_info,party_affiliation)),label))\n",
        "    for (text,subject,speaker,speaker_job,state_info,party_affiliation,label) in raw_data[num_training_samples:]:\n",
        "        test_data.append((toFeatureVector(pre_process(text,subject,speaker,speaker_job,state_info,party_affiliation)),label))"
      ]
    },
    {
      "cell_type": "code",
      "execution_count": null,
      "id": "04bc2475-7829-4517-ab39-8dcb7348a9aa",
      "metadata": {
        "id": "04bc2475-7829-4517-ab39-8dcb7348a9aa"
      },
      "outputs": [],
      "source": [
        "def convert_label(label):\n",
        "    \"\"\"Converts the multiple classes into two,\n",
        "    making it a binary distinction between fake news and real.\"\"\"\n",
        "    #return label\n",
        "    # Converting the multiclass labels to binary label\n",
        "    labels_map = {\n",
        "        'true': 'REAL',\n",
        "        'mostly-true': 'REAL',\n",
        "        'half-true': 'REAL',\n",
        "        'false': 'FAKE',\n",
        "        'barely-true': 'FAKE',\n",
        "        'pants-fire': 'FAKE'\n",
        "    }\n",
        "    return labels_map[label]\n",
        "\n",
        "\n",
        "def parse_data_line(data_line):\n",
        "    # Should return a tuple of the label as just FAKE or REAL and the statement\n",
        "    # e.g. (label, statement)\n",
        "    label = data_line[1]\n",
        "    statement = data_line[2]\n",
        "    subject = data_line[3]\n",
        "    speaker = data_line[4]\n",
        "    speaker_job = data_line[5]\n",
        "    state_info = data_line[6]\n",
        "    party_affiliation = data_line[7]\n",
        "    #context = data_line[12] \n",
        "    label = convert_label(label)\n",
        "    return(label,statement,subject, speaker, speaker_job, state_info, party_affiliation)"
      ]
    },
    {
      "cell_type": "markdown",
      "source": [
        "Feature Extraction"
      ],
      "metadata": {
        "id": "FPXZuNQMGgpK"
      },
      "id": "FPXZuNQMGgpK"
    },
    {
      "cell_type": "code",
      "execution_count": null,
      "id": "09d98f24-3a52-46e3-8729-963cd027d3aa",
      "metadata": {
        "id": "09d98f24-3a52-46e3-8729-963cd027d3aa"
      },
      "outputs": [],
      "source": [
        "def glue_tokens(tokens, order):\n",
        "    return ' '.join(tokens)\n",
        "\n",
        "def tokenize_sentence(sentence, order):\n",
        "    tokens = sentence.split()\n",
        "    tokens = ['<s>'] * (order-1) + tokens + ['</s>']\n",
        "    return tokens\n",
        "\n",
        "def pre_process(text,subject,speaker,speaker_job,state_info,party_affiliation):  \n",
        "    orderMax = 2\n",
        "    ngrams= Counter()\n",
        "    wnl = nltk.WordNetLemmatizer()\n",
        "    stop = set(stopwords.words('english')) \n",
        "    \n",
        "    text = re.sub(r\"(\\w)([.,;:!?'\\\"”\\)])\", r\"\\1 \\2\", text) # separates punctuation at ends of strings\n",
        "    text = re.sub(r\"([.,;:!?'\\\"“\\(\\)])(\\w)\", r\"\\1 \\2\", text) # separates punctuation at beginning of strings\n",
        "    tokens = re.split(r\"\\s+\",text)\n",
        "    \n",
        "    #text = re.sub(r'[^\\w\\s]', '', text)\n",
        "    text = re.sub(\" \\d+\", \" \", text)\n",
        "    #tokens = [w for w in tokens if not w.lower() in stop]\n",
        "    tokens = [wnl.lemmatize(w) for w in tokens]\n",
        "    tokens = [t.lower() for t in tokens]\n",
        "    for order in (1,orderMax):\n",
        "        for i in range(order - 1, len(tokens)):\n",
        "            context = tokens[i-order+1:i]\n",
        "            target = tokens[i]\n",
        "            ngram = context + [target]\n",
        "            ngrams[glue_tokens(ngram, order)] +=1\n",
        "    \n",
        "    ngrams['~'+subject] = 5\n",
        "    return ngrams    "
      ]
    },
    {
      "cell_type": "code",
      "execution_count": null,
      "id": "346b61a2-1a81-491a-b66a-71ed2746e67f",
      "metadata": {
        "id": "346b61a2-1a81-491a-b66a-71ed2746e67f"
      },
      "outputs": [],
      "source": [
        "global_feature_dict = {} # A global dictionary of features\n",
        "def toFeatureVector(tokens):\n",
        "    \n",
        "    featureVector = {}  # local feature vector for this example (in dict form)\n",
        "    for t in tokens:\n",
        "        try:\n",
        "            i = global_feature_dict[t]\n",
        "        except KeyError:\n",
        "                i = len(global_feature_dict) + 1\n",
        "                global_feature_dict[t] = i\n",
        " \n",
        "        try:\n",
        "            featureVector[t] += 1\n",
        "        except KeyError:\n",
        "            featureVector[t] = 1 \n",
        "                   \n",
        "    return featureVector "
      ]
    },
    {
      "cell_type": "code",
      "execution_count": null,
      "id": "7d8cdcf1-2815-46ec-8808-d7d05522ef1c",
      "metadata": {
        "id": "7d8cdcf1-2815-46ec-8808-d7d05522ef1c"
      },
      "outputs": [],
      "source": [
        "def train_classifier(data):\n",
        "    print(\"Training Classifier...\")\n",
        "    pipeline =  Pipeline([('tfid', TfidfTransformer()),('svc', LinearSVC(C=1.0))])\n",
        "    return SklearnClassifier(pipeline).train(data)"
      ]
    },
    {
      "cell_type": "markdown",
      "source": [
        "Cross-Validation"
      ],
      "metadata": {
        "id": "zWLu0AFaGn6L"
      },
      "id": "zWLu0AFaGn6L"
    },
    {
      "cell_type": "code",
      "execution_count": null,
      "id": "427f8512-88bb-4207-adbf-eeaec65267d6",
      "metadata": {
        "id": "427f8512-88bb-4207-adbf-eeaec65267d6"
      },
      "outputs": [],
      "source": [
        "from sklearn.metrics import classification_report\n",
        "from sklearn.metrics import accuracy_score,precision_recall_fscore_support\n",
        "\n",
        "def cross_validate(dataset, folds):\n",
        "    precision_R =[]\n",
        "    recall_R = []\n",
        "    f_score_R = []\n",
        "    \n",
        "    precision_F =[]\n",
        "    recall_F = []\n",
        "    f_score_F = []\n",
        "    \n",
        "    accuracy = []\n",
        "    \n",
        "    results = []\n",
        "    fold_size = int(len(dataset)/folds) + 1\n",
        "\n",
        "    for i in range(0,len(dataset),int(fold_size)):\n",
        "        # insert code here that trains and tests on the 10 folds of data in the dataset \n",
        "        X_val = dataset[i:i+fold_size]\n",
        "        X_train = dataset[:i] + dataset[i+fold_size:]\n",
        "        classifier = train_classifier(X_train)\n",
        "        \n",
        "        data_stat_label = pd.DataFrame(X_val,columns=['statement','label'])\n",
        "        train = data_stat_label['statement']\n",
        "        test= data_stat_label['label']\n",
        "        predictions = predict_labels(train,classifier) \n",
        "        #print(\"Fold start on items %d - %d\" % (i, i+fold_size))\n",
        "        \n",
        "        # FILL IN THE METHOD HERE\n",
        "        p,r,f,_ = precision_recall_fscore_support(test,predictions)\n",
        "        a_score = accuracy_score(test,predictions)\n",
        "        precision_R.append(p[0])\n",
        "        precision_F.append(p[1])\n",
        "        recall_R.append(r[0])\n",
        "        recall_F.append(r[1])\n",
        "        f_score_R.append(f[0])\n",
        "        f_score_F.append(f[1])\n",
        "        accuracy.append(a_score)\n",
        "        results = [[np.mean(precision_R),np.mean(precision_F)],[np.mean(recall_R),np.mean(recall_F)],[np.mean(f_score_R),np.mean(f_score_F)],np.mean(accuracy)]\n",
        "              \n",
        "    return results"
      ]
    },
    {
      "cell_type": "code",
      "execution_count": null,
      "id": "6dfd94c2-00e7-4627-954b-b569ae6a0adc",
      "metadata": {
        "id": "6dfd94c2-00e7-4627-954b-b569ae6a0adc"
      },
      "outputs": [],
      "source": [
        "def predict_labels(samples, classifier):\n",
        "    \"\"\"Assuming preprocessed samples, return their predicted labels from the classifier model.\"\"\"\n",
        "    return classifier.classify_many(samples)\n",
        "\n",
        "def predict_label_from_raw(text,subject, speaker, speaker_job,party_affiliation,state_info, classifier):\n",
        "    \"\"\"Assuming raw text, return its predicted label from the classifier model.\"\"\"\n",
        "    return classifier.classify(toFeatureVector(pre_process(text,subject, speaker, speaker_job,party_affiliation,state_info)))"
      ]
    },
    {
      "cell_type": "markdown",
      "source": [
        "Main"
      ],
      "metadata": {
        "id": "HtoNQgG3GrXb"
      },
      "id": "HtoNQgG3GrXb"
    },
    {
      "cell_type": "code",
      "execution_count": null,
      "id": "d3371569-fffe-4c4b-b740-551e92fa5dd4",
      "metadata": {
        "id": "d3371569-fffe-4c4b-b740-551e92fa5dd4",
        "outputId": "bc8c8f72-ad2f-4527-cc5f-6be1a665cb29"
      },
      "outputs": [
        {
          "name": "stdout",
          "output_type": "stream",
          "text": [
            "Now 0 rawData, 0 trainData, 0 testData\n",
            "Preparing the dataset...\n",
            "Now 10241 rawData, 0 trainData, 0 testData\n",
            "Preparing training and test data...\n",
            "After split, 10241 rawData, 8192 trainData, 2049 testData\n",
            "Training Samples: \n",
            "8192\n",
            "Features: \n",
            "102384\n"
          ]
        }
      ],
      "source": [
        "raw_data = []          # the filtered data from the dataset file\n",
        "train_data = []        # the pre-processed training data as a percentage of the total dataset\n",
        "test_data = []         # the pre-processed test data as a percentage of the total dataset\n",
        "\n",
        "\n",
        "# references to the data files\n",
        "data_file_path = 'fake_news.tsv'\n",
        "\n",
        "# Do the actual stuff (i.e. call the functions we've made)\n",
        "# We parse the dataset and put it in a raw data list    \n",
        "print(\"Now %d rawData, %d trainData, %d testData\" % (len(raw_data), len(train_data), len(test_data)),\n",
        "      \"Preparing the dataset...\",sep='\\n')\n",
        "\n",
        "load_data(data_file_path) \n",
        "\n",
        "# We split the raw dataset into a set of training data and a set of test data (80/20)\n",
        "# You do the cross validation on the 80% (training data)\n",
        "# We print the number of training samples and the number of features before the split\n",
        "print(\"Now %d rawData, %d trainData, %d testData\" % (len(raw_data), len(train_data), len(test_data)),\n",
        "      \"Preparing training and test data...\",sep='\\n')\n",
        "\n",
        "split_and_preprocess_data(0.8)\n",
        "\n",
        "# We print the number of training samples and the number of features after the split\n",
        "print(\"After split, %d rawData, %d trainData, %d testData\" % (len(raw_data), len(train_data), len(test_data)),\n",
        "      \"Training Samples: \", len(train_data), \"Features: \", len(global_feature_dict), sep='\\n')\n"
      ]
    },
    {
      "cell_type": "code",
      "execution_count": null,
      "id": "2c834ecb-efe7-4677-8297-34f299fb1951",
      "metadata": {
        "id": "2c834ecb-efe7-4677-8297-34f299fb1951",
        "outputId": "ea45a919-fff6-4957-9416-c2fb47225368"
      },
      "outputs": [
        {
          "name": "stdout",
          "output_type": "stream",
          "text": [
            "Training Classifier...\n",
            "Training Classifier...\n",
            "Training Classifier...\n",
            "Training Classifier...\n",
            "Training Classifier...\n",
            "Training Classifier...\n",
            "Training Classifier...\n",
            "Training Classifier...\n",
            "Training Classifier...\n",
            "Training Classifier...\n",
            "\n",
            "\n",
            "Precision:  [0.5645666820798096, 0.637966102775909]\n",
            "Recall:  [0.4678504996787412, 0.7220733417757229]\n",
            "f_score:  [0.5110552523427037, 0.6770406811537915]\n",
            "Accuracy:  0.611221314429893\n"
          ]
        }
      ],
      "source": [
        "cv_results = []\n",
        "cv_results=cross_validate(train_data, 10)  #output average overall performance of p, r, f-score and accuracy of Real and Fake label respectively when cv implemented\n",
        "print('\\n')\n",
        "print('Precision: ',cv_results[0])\n",
        "print('Recall: ',cv_results[1])\n",
        "print('f_score: ',cv_results[2])\n",
        "print('Accuracy: ',cv_results[3])"
      ]
    },
    {
      "cell_type": "markdown",
      "source": [
        "Error Analysis"
      ],
      "metadata": {
        "id": "gxQb5jCDGtRK"
      },
      "id": "gxQb5jCDGtRK"
    },
    {
      "cell_type": "code",
      "execution_count": null,
      "id": "2dff9d10-a393-40e7-8965-ac946520329c",
      "metadata": {
        "id": "2dff9d10-a393-40e7-8965-ac946520329c"
      },
      "outputs": [],
      "source": [
        "from sklearn import metrics\n",
        "import matplotlib.pyplot as plt\n",
        "# a function to make the confusion matrix readable and pretty\n",
        "def confusion_matrix_heatmap(y_test, preds, labels):\n",
        "    \"\"\"Function to plot a confusion matrix\"\"\"\n",
        "    # pass labels to the confusion matrix function to ensure right order\n",
        "    cm = metrics.confusion_matrix(y_test, preds)\n",
        "    fig = plt.figure(figsize=(10,10))\n",
        "    ax = fig.add_subplot(111)\n",
        "    cax = ax.matshow(cm)\n",
        "    plt.title('Confusion matrix of the classifier')\n",
        "    fig.colorbar(cax)\n",
        "    ax.set_xticks(np.arange(len(labels)))\n",
        "    ax.set_yticks(np.arange(len(labels)))\n",
        "    ax.set_xticklabels( labels, rotation=45)\n",
        "    ax.set_yticklabels( labels)\n",
        "\n",
        "    for i in range(len(cm)):\n",
        "        for j in range(len(cm)):\n",
        "            text = ax.text(j, i, cm[i, j],\n",
        "                           ha=\"center\", va=\"center\", color=\"w\")\n",
        "\n",
        "    plt.xlabel('Predicted')\n",
        "    plt.ylabel('True')\n",
        "    \n",
        "    # fix for mpl bug that cuts off top/bottom of seaborn viz:\n",
        "    b, t = plt.ylim() # discover the values for bottom and top\n",
        "    b += 0.5 # Add 0.5 to the bottom\n",
        "    t -= 0.5 # Subtract 0.5 from the top\n",
        "    plt.ylim(b, t) # update the ylim(bottom, top) values\n",
        "    plt.show() # ta-da!\n",
        "    plt.show()"
      ]
    },
    {
      "cell_type": "code",
      "execution_count": null,
      "id": "9c98cfc4-f421-4d4e-9d1e-560e15d2a5b8",
      "metadata": {
        "id": "9c98cfc4-f421-4d4e-9d1e-560e15d2a5b8",
        "outputId": "008546a8-2dcf-4492-c073-e52881f43c51"
      },
      "outputs": [
        {
          "name": "stdout",
          "output_type": "stream",
          "text": [
            "Training Classifier...\n"
          ]
        },
        {
          "data": {
            "image/png": "[encoded data removed]",
            "text/plain": [
              "<Figure size 1000x1000 with 2 Axes>"
            ]
          },
          "metadata": {},
          "output_type": "display_data"
        }
      ],
      "source": [
        "folds = 10\n",
        "fold_size = int(len(train_data)/folds) + 1\n",
        "test_set = train_data[:fold_size]\n",
        "train_set = train_data[fold_size:]\n",
        "clf = train_classifier(train_set)\n",
        "df = pd.DataFrame(test_set,columns=['statement','label'])\n",
        "X = df['statement']\n",
        "y  = df['label']\n",
        "y_pred = predict_labels(X,clf)\n",
        "label_names = ['REAL','FAKE']\n",
        "\n",
        "confusion_matrix_heatmap(y, y_pred,label_names)"
      ]
    },
    {
      "cell_type": "code",
      "execution_count": null,
      "id": "172076e8-6930-42ed-9388-5525e9767cb8",
      "metadata": {
        "id": "172076e8-6930-42ed-9388-5525e9767cb8"
      },
      "outputs": [],
      "source": [
        "# Saving the False positive and  False negative to text files\n",
        "n = 820\n",
        "with open('FAKE- flase negative.txt', 'w') as f:    \n",
        "    for (text,subject, speaker, speaker_job,party_affiliation,state_info,label) in raw_data[:820]:\n",
        "        prediction = predict_label_from_raw(text,subject, speaker, speaker_job,party_affiliation,state_info,clf)\n",
        "        if(label=='FAKE' and prediction!=label):\n",
        "            #print('{0} => {1}, ground truth = {2}'.format(text, prediction, label))\n",
        "            print('{0} => {1}, ground truth = {2}'.format(text, prediction, label), file=f)\n",
        "            n-=1\n",
        "            if n <0:\n",
        "                break\n",
        "with open('FAKE- flase positives.txt', 'w') as f: \n",
        "    for (text,subject, speaker, speaker_job,party_affiliation,state_info,label) in raw_data[:820]:\n",
        "        prediction = predict_label_from_raw(text,subject, speaker, speaker_job,party_affiliation,state_info,clf)\n",
        "        if(label=='REAL'and prediction!=label):\n",
        "            #print('{0} => {1}, ground truth = {2}'.format(text, prediction, label))\n",
        "            print('{0} => {1}, ground truth = {2}'.format(text, prediction, label), file=f)\n",
        "            n-=1\n",
        "            if n <0:\n",
        "                break"
      ]
    },
    {
      "cell_type": "markdown",
      "source": [
        "F-Score"
      ],
      "metadata": {
        "id": "8aGU9TziG76w"
      },
      "id": "8aGU9TziG76w"
    },
    {
      "cell_type": "code",
      "execution_count": null,
      "id": "0ddac5f2-0ec8-4cba-b251-f6c01830d07d",
      "metadata": {
        "id": "0ddac5f2-0ec8-4cba-b251-f6c01830d07d",
        "outputId": "b2d9b728-15e3-41ff-fb94-84b7db795614"
      },
      "outputs": [
        {
          "name": "stdout",
          "output_type": "stream",
          "text": [
            "Training Classifier...\n",
            "0       {'the': 1, 'bush': 1, 'tax': 1, 'cut': 1, 'hel...\n",
            "1       {'we': 1, 'have': 1, 'invested': 1, 'record': ...\n",
            "2       {'$2': 1, '.': 1, '4': 1, 'million': 1, 'of': ...\n",
            "3       {'says': 1, 'sen': 1, '.': 1, 'sherrod': 1, 'b...\n",
            "4       {'half': 1, 'of': 1, 'illegal': 1, 'immigrant'...\n",
            "                              ...                        \n",
            "2044    {'there': 1, 'are': 1, 'a': 1, 'larger': 1, 'n...\n",
            "2045    {'democrats': 1, 'have': 1, 'now': 1, 'become'...\n",
            "2046    {'says': 1, 'an': 1, 'alternative': 1, 'to': 1...\n",
            "2047    {'on': 1, 'lifting': 1, 'the': 1, 'u': 1, '.':...\n",
            "2048    {'the': 1, 'department': 1, 'of': 1, 'veterans...\n",
            "Name: statement, Length: 2049, dtype: object\n",
            "({'the': 1, 'bush': 1, 'tax': 1, 'cut': 1, 'helped': 1, 'to': 1, 'create': 1, 'a': 1, 'substantial': 1, 'part': 1, 'of': 1, 'deficit': 1, '.': 1, 'the bush': 1, 'bush tax': 1, 'tax cut': 1, 'cut helped': 1, 'helped to': 1, 'to create': 1, 'create a': 1, 'a substantial': 1, 'substantial part': 1, 'part of': 1, 'of the': 1, 'the deficit': 1, 'deficit .': 1, '~bush-administration,deficit,taxes': 1}, 'REAL')\n",
            "Training Classifier...\n",
            "Done training!\n",
            "Precision: 0.609175\n",
            "Recall: 0.612494\n",
            "F Score:0.606227\n"
          ]
        }
      ],
      "source": [
        "clf = train_classifier(train_data)\n",
        "df = pd.DataFrame(test_data,columns=['statement','label'])\n",
        "X = df['statement']\n",
        "y  = df['label']\n",
        "print(X)\n",
        "y_pred = predict_labels(X,clf)\n",
        "label_names = ['REAL','FAKE']\n",
        "\n",
        "functions_complete = True  # set to True once you're happy with your methods for cross val\n",
        "if functions_complete:\n",
        "    print(test_data[0])   # have a look at the first test data instance\n",
        "    classifier = train_classifier(train_data)  # train the classifier\n",
        "    test_true = [t[1] for t in test_data]   # get the ground-truth labels from the data\n",
        "    test_pred = predict_labels([x[0] for x in test_data], classifier)  # classify the test data to get predicted labels\n",
        "    final_scores = precision_recall_fscore_support(test_true, test_pred, average='weighted') # evaluate\n",
        "    print(\"Done training!\")\n",
        "    print(\"Precision: %f\\nRecall: %f\\nF Score:%f\" % final_scores[:3])"
      ]
    },
    {
      "cell_type": "code",
      "execution_count": null,
      "id": "bf2acdff-ea01-4ac5-8c25-cd266fa6264e",
      "metadata": {
        "id": "bf2acdff-ea01-4ac5-8c25-cd266fa6264e"
      },
      "outputs": [],
      "source": []
    }
  ],
  "metadata": {
    "kernelspec": {
      "display_name": "Python 3 (ipykernel)",
      "language": "python",
      "name": "python3"
    },
    "language_info": {
      "codemirror_mode": {
        "name": "ipython",
        "version": 3
      },
      "file_extension": ".py",
      "mimetype": "text/x-python",
      "name": "python",
      "nbconvert_exporter": "python",
      "pygments_lexer": "ipython3",
      "version": "3.10.6"
    },
    "colab": {
      "provenance": []
    }
  },
  "nbformat": 4,
  "nbformat_minor": 5
}